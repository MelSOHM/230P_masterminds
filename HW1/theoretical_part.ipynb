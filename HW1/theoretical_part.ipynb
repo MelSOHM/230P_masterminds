{
 "cells": [
  {
   "cell_type": "code",
   "execution_count": null,
   "metadata": {},
   "outputs": [],
   "source": [
    "import numpy as np\n",
    "from scipy.stats import norm\n",
    "import matplotlib.pyplot as plt"
   ]
  },
  {
   "cell_type": "code",
   "execution_count": null,
   "metadata": {},
   "outputs": [],
   "source": [
    "def monte_carlo_phi_expectation(m, s, N=100_000, seed=42):\n",
    "    np.random.seed(seed)\n",
    "    Y = np.random.randn(N)  # N échantillons de N(0,1)\n",
    "    values = norm.cdf(Y*s + m)\n",
    "    return np.mean(values)\n",
    "\n",
    "# Exemple : calcul pour m = 0.5\n",
    "m = (1.5 - 2)/0.5\n",
    "s = 1/0.5\n",
    "estimate = monte_carlo_phi_expectation(m, s)\n",
    "print(f\"E[Φ(Ys + {m})] ≈ {estimate:.6f}\")"
   ]
  },
  {
   "cell_type": "code",
   "execution_count": null,
   "metadata": {},
   "outputs": [],
   "source": [
    "def generate_bernoulli(n, p=0.5, seed=None):\n",
    "    if seed is not None:\n",
    "        np.random.seed(seed)\n",
    "    return np.random.binomial(n=1, p=p, size=n)\n",
    "\n",
    "# Exemple : générer 10 valeurs de Bernoulli(0.5)\n",
    "n = 100\n",
    "y_i = generate_bernoulli(n, p=estimate)\n",
    "print(y_i)"
   ]
  },
  {
   "cell_type": "code",
   "execution_count": null,
   "metadata": {},
   "outputs": [],
   "source": [
    "tau = np.linspace(0,1,1000)[1:-1]\n",
    "C1, C2 =  5, 5\n",
    "alpha_0 , beta_0, sigma_a, sigma_b = 0, 0, 1, 1 \n",
    "def standard_normal_cdf(x):\n",
    "    return norm.cdf(x)\n",
    "\n",
    "def generate_balanced_labels_and_risk(n, mu=1.5, sigma=1.0, seed=None):\n",
    "\n",
    "    # Générer le facteur de risque pour chaque observation\n",
    "    risk_scores = np.random.normal(loc=mu, scale=sigma, size=n)\n",
    "\n",
    "    return risk_scores\n",
    "\n",
    "x_i = generate_balanced_labels_and_risk(n)\n",
    "\n",
    "def compute_cost(t):\n",
    "    A = - (np.log(1/t - 1)+alpha_0 + beta_0*x_i) / (sigma_a**2 + sigma_b**2*x_i**2)**(1/2)\n",
    "    return sum(C1*(1-y_i)*(1-standard_normal_cdf(A)) + C2*y_i*standard_normal_cdf(A)), sum(C1*(1-y_i)*1-standard_normal_cdf(A)), sum(C2*y_i*standard_normal_cdf(A))"
   ]
  },
  {
   "cell_type": "code",
   "execution_count": null,
   "metadata": {},
   "outputs": [],
   "source": [
    "res = [compute_cost(t) for t in tau]\n",
    "res1 = [r[0] for r in res]\n",
    "res2 = [r[1] for r in res]\n",
    "res3 = [r[2] for r in res]"
   ]
  },
  {
   "cell_type": "code",
   "execution_count": null,
   "metadata": {},
   "outputs": [],
   "source": [
    "res1"
   ]
  },
  {
   "cell_type": "code",
   "execution_count": null,
   "metadata": {},
   "outputs": [],
   "source": [
    "plt.plot(res1)\n",
    "plt.plot(res2)\n",
    "plt.plot(res3)"
   ]
  },
  {
   "cell_type": "code",
   "execution_count": null,
   "metadata": {},
   "outputs": [],
   "source": []
  }
 ],
 "metadata": {
  "kernelspec": {
   "display_name": "230P",
   "language": "python",
   "name": "python3"
  },
  "language_info": {
   "codemirror_mode": {
    "name": "ipython",
    "version": 3
   },
   "file_extension": ".py",
   "mimetype": "text/x-python",
   "name": "python",
   "nbconvert_exporter": "python",
   "pygments_lexer": "ipython3",
   "version": "3.10.12"
  },
  "orig_nbformat": 4
 },
 "nbformat": 4,
 "nbformat_minor": 2
}
